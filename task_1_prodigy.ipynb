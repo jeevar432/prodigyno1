{
  "nbformat": 4,
  "nbformat_minor": 0,
  "metadata": {
    "colab": {
      "private_outputs": true,
      "provenance": []
    },
    "kernelspec": {
      "name": "python3",
      "display_name": "Python 3"
    },
    "language_info": {
      "name": "python"
    }
  },
  "cells": [
    {
      "cell_type": "code",
      "execution_count": null,
      "metadata": {
        "id": "tVWGwTCmPpMU"
      },
      "outputs": [],
      "source": [
        "import pandas as pd\n",
        "import matplotlib.pyplot as plt\n"
      ]
    },
    {
      "cell_type": "code",
      "source": [
        "data = pd.read_csv(\"/population.csv\")"
      ],
      "metadata": {
        "id": "O99aF_8NOorO"
      },
      "execution_count": null,
      "outputs": []
    },
    {
      "cell_type": "code",
      "source": [
        "data.head(266)"
      ],
      "metadata": {
        "id": "hhfO52u_PV92"
      },
      "execution_count": null,
      "outputs": []
    },
    {
      "cell_type": "code",
      "source": [
        "data.describe"
      ],
      "metadata": {
        "id": "WZIPZ4WcPYyc"
      },
      "execution_count": null,
      "outputs": []
    },
    {
      "cell_type": "code",
      "source": [
        "countries_to_plot = ['United States', 'Canada', 'Brazil', 'Japan', 'Germany', 'France']\n",
        "filtered_data = data[data['Country Name'].isin(countries_to_plot)]\n",
        "plt.bar (filtered_data['Country Name'], filtered_data['2022'])\n",
        "plt.xlabel ('Country Name')\n",
        "plt.ylabel ('Population in 2022')\n",
        "plt.title('Population of selected countries in 2022')\n",
        "plt.xticks(rotation=45, ha='right')\n",
        "plt.show()"
      ],
      "metadata": {
        "id": "fmyYfnTDPb8L"
      },
      "execution_count": null,
      "outputs": []
    }
  ]
}